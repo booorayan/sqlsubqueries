{
  "nbformat": 4,
  "nbformat_minor": 0,
  "metadata": {
    "colab": {
      "name": "Copy of SQL Programming -  Subqueries using Select Statements",
      "version": "0.3.2",
      "provenance": [],
      "collapsed_sections": [],
      "toc_visible": true,
      "include_colab_link": true
    },
    "kernelspec": {
      "name": "python3",
      "display_name": "Python 3"
    },
    "accelerator": "GPU"
  },
  "cells": [
    {
      "cell_type": "markdown",
      "metadata": {
        "id": "view-in-github",
        "colab_type": "text"
      },
      "source": [
        "<a href=\"https://colab.research.google.com/github/booorayan/sqlsubqueries/blob/master/Copy_of_SQL_Programming_Subqueries_using_Select_Statements.ipynb\" target=\"_parent\"><img src=\"https://colab.research.google.com/assets/colab-badge.svg\" alt=\"Open In Colab\"/></a>"
      ]
    },
    {
      "cell_type": "markdown",
      "metadata": {
        "id": "v7SpgjvSlIoR",
        "colab_type": "text"
      },
      "source": [
        "<font color=\"green\">*To start working on this notebook, or any other notebook that we will use in the Moringa Data Science Course, we will need to save our own copy of it. We can do this by clicking File > Save a Copy in Drive. We will then be able to make edits to our own copy of this notebook.*</font>"
      ]
    },
    {
      "cell_type": "markdown",
      "metadata": {
        "id": "LtFx0bBdlL-n",
        "colab_type": "text"
      },
      "source": [
        "# SQL Programming - Subqueries using Select Statements"
      ]
    },
    {
      "cell_type": "markdown",
      "metadata": {
        "id": "mlCS9-zslSwf",
        "colab_type": "text"
      },
      "source": [
        "## 1.0 Connecting to our Database"
      ]
    },
    {
      "cell_type": "code",
      "metadata": {
        "id": "cEeocMxvnZwS",
        "colab_type": "code",
        "colab": {
          "base_uri": "https://localhost:8080/",
          "height": 72
        },
        "outputId": "61b46bb3-426e-47c5-923a-a522be5ac485"
      },
      "source": [
        "# We will first load the sql extension into our environment\n",
        "%load_ext sql\n",
        "\n",
        "# Then connect to our in memory sqlite database\n",
        "# NB: This database will cease to exist as soon as the database connection is closed. \n",
        "%sql sqlite://"
      ],
      "execution_count": 65,
      "outputs": [
        {
          "output_type": "stream",
          "text": [
            "The sql extension is already loaded. To reload it, use:\n",
            "  %reload_ext sql\n"
          ],
          "name": "stdout"
        },
        {
          "output_type": "execute_result",
          "data": {
            "text/plain": [
              "'Connected: @None'"
            ]
          },
          "metadata": {
            "tags": []
          },
          "execution_count": 65
        }
      ]
    },
    {
      "cell_type": "markdown",
      "metadata": {
        "id": "lLI1zQYqlVlt",
        "colab_type": "text"
      },
      "source": [
        "## 1.1 Loading Data from CSV Files"
      ]
    },
    {
      "cell_type": "markdown",
      "metadata": {
        "colab_type": "text",
        "id": "tNUsWoeTWn_f"
      },
      "source": [
        "Datasets used in this notebook:\n",
        "\n",
        "\n",
        "1.   **World Countries**\n",
        "\n",
        "> ([Dataset Download Link](https://drive.google.com/a/moringaschool.com/file/d/1XlabneVWhvbmpRUi_Wix2FR5uYAAp-ZY/view?usp=sharing))\n",
        "\n",
        "2.   **World Cities** \n",
        "\n",
        "> ([Dataset Download Link](https://drive.google.com/a/moringaschool.com/file/d/1R5952m-8hH91uiwDK8dcL9sT2D_PEcuw/view?usp=sharing))\n",
        "\n",
        "\n",
        "\n",
        "\n"
      ]
    },
    {
      "cell_type": "code",
      "metadata": {
        "id": "jryiwN6GiqoT",
        "colab_type": "code",
        "colab": {}
      },
      "source": [
        "# Importing Pandas\n",
        "import pandas as pd"
      ],
      "execution_count": 0,
      "outputs": []
    },
    {
      "cell_type": "code",
      "metadata": {
        "id": "gnuy0grfirgn",
        "colab_type": "code",
        "colab": {
          "base_uri": "https://localhost:8080/",
          "height": 239
        },
        "outputId": "d6cae60d-6171-4242-a2cf-b1ca66961383"
      },
      "source": [
        "# Loading our Countries dataset\n",
        "# \n",
        "with open('world_cities.csv', 'r') as f:\n",
        "  WorldCities = pd.read_csv(f, index_col=0, encoding='utf-8')\n",
        "  \n",
        "%sql DROP TABLE IF EXISTS WorldCities;\n",
        "%sql PERSIST WorldCities;\n",
        "%sql SELECT * FROM WorldCities limit 5;"
      ],
      "execution_count": 3,
      "outputs": [
        {
          "output_type": "stream",
          "text": [
            " * sqlite://\n",
            "Done.\n",
            " * sqlite://\n",
            " * sqlite://\n",
            "Done.\n"
          ],
          "name": "stdout"
        },
        {
          "output_type": "execute_result",
          "data": {
            "text/html": [
              "<table>\n",
              "    <tr>\n",
              "        <th>city</th>\n",
              "        <th>country</th>\n",
              "        <th>latitude</th>\n",
              "        <th>longitude</th>\n",
              "        <th>temperature</th>\n",
              "    </tr>\n",
              "    <tr>\n",
              "        <td>Aalborg</td>\n",
              "        <td>Denmark</td>\n",
              "        <td>57.03</td>\n",
              "        <td>9.92</td>\n",
              "        <td>7.52</td>\n",
              "    </tr>\n",
              "    <tr>\n",
              "        <td>Aberdeen</td>\n",
              "        <td>United Kingdom</td>\n",
              "        <td>57.17</td>\n",
              "        <td>-2.08</td>\n",
              "        <td>8.1</td>\n",
              "    </tr>\n",
              "    <tr>\n",
              "        <td>Abisko</td>\n",
              "        <td>Sweden</td>\n",
              "        <td>63.35</td>\n",
              "        <td>18.83</td>\n",
              "        <td>0.2</td>\n",
              "    </tr>\n",
              "    <tr>\n",
              "        <td>Adana</td>\n",
              "        <td>Turkey</td>\n",
              "        <td>36.99</td>\n",
              "        <td>35.32</td>\n",
              "        <td>18.67</td>\n",
              "    </tr>\n",
              "    <tr>\n",
              "        <td>Albacete</td>\n",
              "        <td>Spain</td>\n",
              "        <td>39.0</td>\n",
              "        <td>-1.87</td>\n",
              "        <td>12.62</td>\n",
              "    </tr>\n",
              "</table>"
            ],
            "text/plain": [
              "[('Aalborg', 'Denmark', 57.03, 9.92, 7.52),\n",
              " ('Aberdeen', 'United Kingdom', 57.17, -2.08, 8.1),\n",
              " ('Abisko', 'Sweden', 63.35, 18.83, 0.2),\n",
              " ('Adana', 'Turkey', 36.99, 35.32, 18.67),\n",
              " ('Albacete', 'Spain', 39.0, -1.87, 12.62)]"
            ]
          },
          "metadata": {
            "tags": []
          },
          "execution_count": 3
        }
      ]
    },
    {
      "cell_type": "code",
      "metadata": {
        "id": "Nl8AVi1OyUmm",
        "colab_type": "code",
        "colab": {
          "base_uri": "https://localhost:8080/",
          "height": 239
        },
        "outputId": "88cfbda5-39db-4067-aadf-0ce837d8a7dc"
      },
      "source": [
        "# Loading our cities dataset \n",
        "# \n",
        "with open('world_countries.csv', 'r') as f:\n",
        "  WorldCountries = pd.read_csv(f, index_col=0, encoding='utf-8')\n",
        "%sql DROP TABLE IF EXISTS WorldCountries;\n",
        "%sql PERSIST WorldCountries;\n",
        "%sql SELECT * FROM WorldCountries limit 5;"
      ],
      "execution_count": 5,
      "outputs": [
        {
          "output_type": "stream",
          "text": [
            " * sqlite://\n",
            "Done.\n",
            " * sqlite://\n",
            " * sqlite://\n",
            "Done.\n"
          ],
          "name": "stdout"
        },
        {
          "output_type": "execute_result",
          "data": {
            "text/html": [
              "<table>\n",
              "    <tr>\n",
              "        <th>country</th>\n",
              "        <th>population</th>\n",
              "        <th>EU</th>\n",
              "        <th>coastline</th>\n",
              "    </tr>\n",
              "    <tr>\n",
              "        <td>Albania</td>\n",
              "        <td>2.9</td>\n",
              "        <td>no</td>\n",
              "        <td>yes</td>\n",
              "    </tr>\n",
              "    <tr>\n",
              "        <td>Andorra</td>\n",
              "        <td>0.07</td>\n",
              "        <td>no</td>\n",
              "        <td>no</td>\n",
              "    </tr>\n",
              "    <tr>\n",
              "        <td>Austria</td>\n",
              "        <td>8.57</td>\n",
              "        <td>yes</td>\n",
              "        <td>no</td>\n",
              "    </tr>\n",
              "    <tr>\n",
              "        <td>Belarus</td>\n",
              "        <td>9.48</td>\n",
              "        <td>no</td>\n",
              "        <td>no</td>\n",
              "    </tr>\n",
              "    <tr>\n",
              "        <td>Belgium</td>\n",
              "        <td>11.37</td>\n",
              "        <td>yes</td>\n",
              "        <td>yes</td>\n",
              "    </tr>\n",
              "</table>"
            ],
            "text/plain": [
              "[('Albania', 2.9, 'no', 'yes'),\n",
              " ('Andorra', 0.07, 'no', 'no'),\n",
              " ('Austria', 8.57, 'yes', 'no'),\n",
              " ('Belarus', 9.48, 'no', 'no'),\n",
              " ('Belgium', 11.37, 'yes', 'yes')]"
            ]
          },
          "metadata": {
            "tags": []
          },
          "execution_count": 5
        }
      ]
    },
    {
      "cell_type": "markdown",
      "metadata": {
        "id": "LEAwY5fwleiu",
        "colab_type": "text"
      },
      "source": [
        "## 1.2 Subqueries using the SELECT statement"
      ]
    },
    {
      "cell_type": "markdown",
      "metadata": {
        "id": "xgcGBkvuA3V0",
        "colab_type": "text"
      },
      "source": [
        "A subquery is a query within another query. The outer query is called as main query and inner query is called as subquery. The subquery must be enclosed with parenthesis and generally executes first, and its output is used to complete the query condition for the main or outer query. We will go through examples of how subqueries can be used to answers different types of questions then later, we will use our learnings to work on the challenges."
      ]
    },
    {
      "cell_type": "code",
      "metadata": {
        "id": "--LbGFNOnbTx",
        "colab_type": "code",
        "colab": {
          "base_uri": "https://localhost:8080/",
          "height": 184
        },
        "outputId": "0156c76b-6a02-4e2a-f0ee-c0896b6be123"
      },
      "source": [
        "# Example 1\n",
        "# Subqueries can occur in the select list of the containing query\n",
        "# as shown below;\n",
        "# Let's find all countries in the Countries table with no city in the Cities table\n",
        "# \n",
        "%%sql\n",
        "SELECT country\n",
        "FROM WorldCountries\n",
        "WHERE NOT EXISTS (SELECT * FROM WorldCities\n",
        "                  WHERE WorldCities.country = WorldCountries.country) \n"
      ],
      "execution_count": 7,
      "outputs": [
        {
          "output_type": "stream",
          "text": [
            " * sqlite://\n",
            "Done.\n"
          ],
          "name": "stdout"
        },
        {
          "output_type": "execute_result",
          "data": {
            "text/html": [
              "<table>\n",
              "    <tr>\n",
              "        <th>country</th>\n",
              "    </tr>\n",
              "    <tr>\n",
              "        <td>Cyprus</td>\n",
              "    </tr>\n",
              "    <tr>\n",
              "        <td>Iceland</td>\n",
              "    </tr>\n",
              "    <tr>\n",
              "        <td>Kosovo</td>\n",
              "    </tr>\n",
              "    <tr>\n",
              "        <td>Liechtenstein</td>\n",
              "    </tr>\n",
              "    <tr>\n",
              "        <td>Luxembourg</td>\n",
              "    </tr>\n",
              "</table>"
            ],
            "text/plain": [
              "[('Cyprus',), ('Iceland',), ('Kosovo',), ('Liechtenstein',), ('Luxembourg',)]"
            ]
          },
          "metadata": {
            "tags": []
          },
          "execution_count": 7
        }
      ]
    },
    {
      "cell_type": "code",
      "metadata": {
        "id": "8XqiW-Q8ndKT",
        "colab_type": "code",
        "colab": {
          "base_uri": "https://localhost:8080/",
          "height": 163
        },
        "outputId": "40da36b9-c219-497c-ad4f-4ef9c257fcb7"
      },
      "source": [
        "# Example 2\n",
        "# Find the European countries with cities experiencing temperature > 20?\n",
        "# \n",
        "%%sql\n",
        "SELECT country\n",
        "FROM WorldCountries\n",
        "WHERE EU = 'yes'\n",
        "AND EXISTS (SELECT * FROM WorldCities\n",
        "            WHERE WorldCities.country = WorldCountries.country\n",
        "            AND temperature > 15)"
      ],
      "execution_count": 8,
      "outputs": [
        {
          "output_type": "stream",
          "text": [
            " * sqlite://\n",
            "Done.\n"
          ],
          "name": "stdout"
        },
        {
          "output_type": "execute_result",
          "data": {
            "text/html": [
              "<table>\n",
              "    <tr>\n",
              "        <th>country</th>\n",
              "    </tr>\n",
              "    <tr>\n",
              "        <td>Greece</td>\n",
              "    </tr>\n",
              "    <tr>\n",
              "        <td>Italy</td>\n",
              "    </tr>\n",
              "    <tr>\n",
              "        <td>Portugal</td>\n",
              "    </tr>\n",
              "    <tr>\n",
              "        <td>Spain</td>\n",
              "    </tr>\n",
              "</table>"
            ],
            "text/plain": [
              "[('Greece',), ('Italy',), ('Portugal',), ('Spain',)]"
            ]
          },
          "metadata": {
            "tags": []
          },
          "execution_count": 8
        }
      ]
    },
    {
      "cell_type": "code",
      "metadata": {
        "id": "ocuJ_kB4nd3z",
        "colab_type": "code",
        "colab": {
          "base_uri": "https://localhost:8080/",
          "height": 98
        },
        "outputId": "36620cbe-d547-480a-b1bf-2db51b019518"
      },
      "source": [
        "# Example 3: Method 1\n",
        "# Find the westernmost city, returning the city and longitude\n",
        "# \n",
        "%%sql\n",
        "SELECT city, longitude\n",
        "FROM WorldCities C1\n",
        "WHERE NOT EXISTS (SELECT * FROM WorldCities C2\n",
        "                  WHERE C2.longitude < C1.longitude)"
      ],
      "execution_count": 9,
      "outputs": [
        {
          "output_type": "stream",
          "text": [
            " * sqlite://\n",
            "Done.\n"
          ],
          "name": "stdout"
        },
        {
          "output_type": "execute_result",
          "data": {
            "text/html": [
              "<table>\n",
              "    <tr>\n",
              "        <th>city</th>\n",
              "        <th>longitude</th>\n",
              "    </tr>\n",
              "    <tr>\n",
              "        <td>Lisbon</td>\n",
              "        <td>-9.14</td>\n",
              "    </tr>\n",
              "</table>"
            ],
            "text/plain": [
              "[('Lisbon', -9.14)]"
            ]
          },
          "metadata": {
            "tags": []
          },
          "execution_count": 9
        }
      ]
    },
    {
      "cell_type": "code",
      "metadata": {
        "id": "MQCaPcMQ5pDl",
        "colab_type": "code",
        "colab": {
          "base_uri": "https://localhost:8080/",
          "height": 98
        },
        "outputId": "7e0656ff-69b6-473d-fa96-7552aaef8cf6"
      },
      "source": [
        "# Example 3: Method 2\n",
        "# Find the westernmost city, returning the city and longitude\n",
        "# \n",
        "%%sql\n",
        "SELECT city, longitude\n",
        "FROM WorldCities\n",
        "WHERE longitude = (SELECT min(longitude) FROM WorldCities\n",
        "                  limit 3)"
      ],
      "execution_count": 35,
      "outputs": [
        {
          "output_type": "stream",
          "text": [
            " * sqlite://\n",
            "Done.\n"
          ],
          "name": "stdout"
        },
        {
          "output_type": "execute_result",
          "data": {
            "text/html": [
              "<table>\n",
              "    <tr>\n",
              "        <th>city</th>\n",
              "        <th>longitude</th>\n",
              "    </tr>\n",
              "    <tr>\n",
              "        <td>Aalborg</td>\n",
              "        <td>9.92</td>\n",
              "    </tr>\n",
              "</table>"
            ],
            "text/plain": [
              "[('Aalborg', 9.92)]"
            ]
          },
          "metadata": {
            "tags": []
          },
          "execution_count": 35
        }
      ]
    },
    {
      "cell_type": "code",
      "metadata": {
        "id": "KL5VFl2x7kLZ",
        "colab_type": "code",
        "colab": {
          "base_uri": "https://localhost:8080/",
          "height": 98
        },
        "outputId": "bf4bfce9-57b4-4d8f-c7d9-a1cf7df3070b"
      },
      "source": [
        "# Example 4:\n",
        "# How many cities are in the EU?\n",
        "# \n",
        "%%sql\n",
        "SELECT count()\n",
        "FROM WorldCities\n",
        "WHERE country IN (SELECT country FROM WorldCountries WHERE EU = 'yes')"
      ],
      "execution_count": 20,
      "outputs": [
        {
          "output_type": "stream",
          "text": [
            " * sqlite://\n",
            "Done.\n"
          ],
          "name": "stdout"
        },
        {
          "output_type": "execute_result",
          "data": {
            "text/html": [
              "<table>\n",
              "    <tr>\n",
              "        <th>count()</th>\n",
              "    </tr>\n",
              "    <tr>\n",
              "        <td>150</td>\n",
              "    </tr>\n",
              "</table>"
            ],
            "text/plain": [
              "[(150,)]"
            ]
          },
          "metadata": {
            "tags": []
          },
          "execution_count": 20
        }
      ]
    },
    {
      "cell_type": "markdown",
      "metadata": {
        "id": "d1czA9cCnfki",
        "colab_type": "text"
      },
      "source": [
        "### <font color=\"green\">1.2 Challenges</font>"
      ]
    },
    {
      "cell_type": "code",
      "metadata": {
        "id": "BpOpH-fznpo2",
        "colab_type": "code",
        "colab": {
          "base_uri": "https://localhost:8080/",
          "height": 98
        },
        "outputId": "e0846ace-355a-4726-e55a-e72fcf4f95ea"
      },
      "source": [
        "# Challenge 1\n",
        "# Find number of countries that have a city with latitude > 1000 (start with country list)\n",
        "# \n",
        "%%sql\n",
        "SELECT count() FROM WorldCountries\n",
        "WHERE country IN (SELECT city FROM WorldCities WHERE\n",
        "                 WorldCities.country = WorldCountries.country\n",
        "                 AND latitude > 1000)"
      ],
      "execution_count": 22,
      "outputs": [
        {
          "output_type": "stream",
          "text": [
            " * sqlite://\n",
            "Done.\n"
          ],
          "name": "stdout"
        },
        {
          "output_type": "execute_result",
          "data": {
            "text/html": [
              "<table>\n",
              "    <tr>\n",
              "        <th>count()</th>\n",
              "    </tr>\n",
              "    <tr>\n",
              "        <td>0</td>\n",
              "    </tr>\n",
              "</table>"
            ],
            "text/plain": [
              "[(0,)]"
            ]
          },
          "metadata": {
            "tags": []
          },
          "execution_count": 22
        }
      ]
    },
    {
      "cell_type": "code",
      "metadata": {
        "id": "jIhUfWXlnrcK",
        "colab_type": "code",
        "colab": {
          "base_uri": "https://localhost:8080/",
          "height": 141
        },
        "outputId": "b1c4126c-3368-4826-f1ad-fcdd58c4212c"
      },
      "source": [
        "# Challenge 2\n",
        "# Find three westernmost cities returning both the cities and their longitude\n",
        "#\n",
        "%%sql\n",
        "SELECT city,longitude FROM WorldCities\n",
        "ORDER BY longitude ASC\n",
        "LIMIT 3;"
      ],
      "execution_count": 34,
      "outputs": [
        {
          "output_type": "stream",
          "text": [
            " * sqlite://\n",
            "Done.\n"
          ],
          "name": "stdout"
        },
        {
          "output_type": "execute_result",
          "data": {
            "text/html": [
              "<table>\n",
              "    <tr>\n",
              "        <th>city</th>\n",
              "        <th>longitude</th>\n",
              "    </tr>\n",
              "    <tr>\n",
              "        <td>Lisbon</td>\n",
              "        <td>-9.14</td>\n",
              "    </tr>\n",
              "    <tr>\n",
              "        <td>Galway</td>\n",
              "        <td>-9.05</td>\n",
              "    </tr>\n",
              "    <tr>\n",
              "        <td>Vigo</td>\n",
              "        <td>-8.73</td>\n",
              "    </tr>\n",
              "</table>"
            ],
            "text/plain": [
              "[('Lisbon', -9.14), ('Galway', -9.05), ('Vigo', -8.73)]"
            ]
          },
          "metadata": {
            "tags": []
          },
          "execution_count": 34
        }
      ]
    },
    {
      "cell_type": "code",
      "metadata": {
        "id": "o0ACgdPAnvrF",
        "colab_type": "code",
        "colab": {
          "base_uri": "https://localhost:8080/",
          "height": 633
        },
        "outputId": "f2479747-eb5f-465b-fdba-39f0566f904d"
      },
      "source": [
        "# Challenge 3\n",
        "# Find cities with temperature is more than 50% higher than the average; \n",
        "# We will return the city, country, and temperature, ordered by descending temperature\n",
        "# Hint: avg(temperature) * 1.5\n",
        "# \n",
        "%%sql\n",
        "SELECT city, country, temperature FROM WorldCities \n",
        "WHERE temperature > (SELECT AVG(temperature) * 1.5 FROM WorldCities)\n",
        "ORDER BY temperature DESC;"
      ],
      "execution_count": 40,
      "outputs": [
        {
          "output_type": "stream",
          "text": [
            " * sqlite://\n",
            "Done.\n"
          ],
          "name": "stdout"
        },
        {
          "output_type": "execute_result",
          "data": {
            "text/html": [
              "<table>\n",
              "    <tr>\n",
              "        <th>city</th>\n",
              "        <th>country</th>\n",
              "        <th>temperature</th>\n",
              "    </tr>\n",
              "    <tr>\n",
              "        <td>Adana</td>\n",
              "        <td>Turkey</td>\n",
              "        <td>18.67</td>\n",
              "    </tr>\n",
              "    <tr>\n",
              "        <td>Palermo</td>\n",
              "        <td>Italy</td>\n",
              "        <td>17.9</td>\n",
              "    </tr>\n",
              "    <tr>\n",
              "        <td>Athens</td>\n",
              "        <td>Greece</td>\n",
              "        <td>17.41</td>\n",
              "    </tr>\n",
              "    <tr>\n",
              "        <td>Algeciras</td>\n",
              "        <td>Spain</td>\n",
              "        <td>17.38</td>\n",
              "    </tr>\n",
              "    <tr>\n",
              "        <td>Cartagena</td>\n",
              "        <td>Spain</td>\n",
              "        <td>17.32</td>\n",
              "    </tr>\n",
              "    <tr>\n",
              "        <td>Kalamata</td>\n",
              "        <td>Greece</td>\n",
              "        <td>17.3</td>\n",
              "    </tr>\n",
              "    <tr>\n",
              "        <td>Marbella</td>\n",
              "        <td>Spain</td>\n",
              "        <td>17.19</td>\n",
              "    </tr>\n",
              "    <tr>\n",
              "        <td>Huelva</td>\n",
              "        <td>Spain</td>\n",
              "        <td>17.09</td>\n",
              "    </tr>\n",
              "    <tr>\n",
              "        <td>Patras</td>\n",
              "        <td>Greece</td>\n",
              "        <td>16.9</td>\n",
              "    </tr>\n",
              "    <tr>\n",
              "        <td>Cosenza</td>\n",
              "        <td>Italy</td>\n",
              "        <td>16.6</td>\n",
              "    </tr>\n",
              "    <tr>\n",
              "        <td>Messina</td>\n",
              "        <td>Italy</td>\n",
              "        <td>16.54</td>\n",
              "    </tr>\n",
              "    <tr>\n",
              "        <td>Granada</td>\n",
              "        <td>Spain</td>\n",
              "        <td>16.33</td>\n",
              "    </tr>\n",
              "    <tr>\n",
              "        <td>Valencia</td>\n",
              "        <td>Spain</td>\n",
              "        <td>16.02</td>\n",
              "    </tr>\n",
              "    <tr>\n",
              "        <td>Trikala</td>\n",
              "        <td>Greece</td>\n",
              "        <td>16.0</td>\n",
              "    </tr>\n",
              "    <tr>\n",
              "        <td>Barcelona</td>\n",
              "        <td>Spain</td>\n",
              "        <td>15.78</td>\n",
              "    </tr>\n",
              "    <tr>\n",
              "        <td>Badajoz</td>\n",
              "        <td>Spain</td>\n",
              "        <td>15.61</td>\n",
              "    </tr>\n",
              "    <tr>\n",
              "        <td>Lisbon</td>\n",
              "        <td>Portugal</td>\n",
              "        <td>15.52</td>\n",
              "    </tr>\n",
              "    <tr>\n",
              "        <td>Elbasan</td>\n",
              "        <td>Albania</td>\n",
              "        <td>15.18</td>\n",
              "    </tr>\n",
              "    <tr>\n",
              "        <td>Bari</td>\n",
              "        <td>Italy</td>\n",
              "        <td>15.15</td>\n",
              "    </tr>\n",
              "    <tr>\n",
              "        <td>Pescara</td>\n",
              "        <td>Italy</td>\n",
              "        <td>15.13</td>\n",
              "    </tr>\n",
              "    <tr>\n",
              "        <td>Manisa</td>\n",
              "        <td>Turkey</td>\n",
              "        <td>15.1</td>\n",
              "    </tr>\n",
              "    <tr>\n",
              "        <td>Rome</td>\n",
              "        <td>Italy</td>\n",
              "        <td>15.1</td>\n",
              "    </tr>\n",
              "    <tr>\n",
              "        <td>Catania</td>\n",
              "        <td>Italy</td>\n",
              "        <td>15.04</td>\n",
              "    </tr>\n",
              "    <tr>\n",
              "        <td>Denizli</td>\n",
              "        <td>Turkey</td>\n",
              "        <td>15.02</td>\n",
              "    </tr>\n",
              "    <tr>\n",
              "        <td>Murcia</td>\n",
              "        <td>Spain</td>\n",
              "        <td>15.0</td>\n",
              "    </tr>\n",
              "    <tr>\n",
              "        <td>Marseille</td>\n",
              "        <td>France</td>\n",
              "        <td>14.98</td>\n",
              "    </tr>\n",
              "</table>"
            ],
            "text/plain": [
              "[('Adana', 'Turkey', 18.67),\n",
              " ('Palermo', 'Italy', 17.9),\n",
              " ('Athens', 'Greece', 17.41),\n",
              " ('Algeciras', 'Spain', 17.38),\n",
              " ('Cartagena', 'Spain', 17.32),\n",
              " ('Kalamata', 'Greece', 17.3),\n",
              " ('Marbella', 'Spain', 17.19),\n",
              " ('Huelva', 'Spain', 17.09),\n",
              " ('Patras', 'Greece', 16.9),\n",
              " ('Cosenza', 'Italy', 16.6),\n",
              " ('Messina', 'Italy', 16.54),\n",
              " ('Granada', 'Spain', 16.33),\n",
              " ('Valencia', 'Spain', 16.02),\n",
              " ('Trikala', 'Greece', 16.0),\n",
              " ('Barcelona', 'Spain', 15.78),\n",
              " ('Badajoz', 'Spain', 15.61),\n",
              " ('Lisbon', 'Portugal', 15.52),\n",
              " ('Elbasan', 'Albania', 15.18),\n",
              " ('Bari', 'Italy', 15.15),\n",
              " ('Pescara', 'Italy', 15.13),\n",
              " ('Manisa', 'Turkey', 15.1),\n",
              " ('Rome', 'Italy', 15.1),\n",
              " ('Catania', 'Italy', 15.04),\n",
              " ('Denizli', 'Turkey', 15.02),\n",
              " ('Murcia', 'Spain', 15.0),\n",
              " ('Marseille', 'France', 14.98)]"
            ]
          },
          "metadata": {
            "tags": []
          },
          "execution_count": 40
        }
      ]
    },
    {
      "cell_type": "code",
      "metadata": {
        "id": "fmUqjv6F6lQ0",
        "colab_type": "code",
        "colab": {
          "base_uri": "https://localhost:8080/",
          "height": 98
        },
        "outputId": "1ab1ad95-732a-4d2a-c5b9-2d710cacc36c"
      },
      "source": [
        "# Challenge 4\n",
        "# How many cities are not in the EU and without a coastline?\n",
        "# \n",
        "# \n",
        "%%sql\n",
        "SELECT COUNT(city) FROM WorldCities\n",
        "WHERE country IN (SELECT country FROM WorldCountries\n",
        "                  WHERE WorldCities.country = WorldCountries.country AND EU = 'no' AND coastline = 'no')"
      ],
      "execution_count": 47,
      "outputs": [
        {
          "output_type": "stream",
          "text": [
            " * sqlite://\n",
            "Done.\n"
          ],
          "name": "stdout"
        },
        {
          "output_type": "execute_result",
          "data": {
            "text/html": [
              "<table>\n",
              "    <tr>\n",
              "        <th>COUNT(city)</th>\n",
              "    </tr>\n",
              "    <tr>\n",
              "        <td>16</td>\n",
              "    </tr>\n",
              "</table>"
            ],
            "text/plain": [
              "[(16,)]"
            ]
          },
          "metadata": {
            "tags": []
          },
          "execution_count": 47
        }
      ]
    },
    {
      "cell_type": "code",
      "metadata": {
        "id": "x14dNNSB8X9_",
        "colab_type": "code",
        "colab": {
          "base_uri": "https://localhost:8080/",
          "height": 98
        },
        "outputId": "42f6174c-16d3-4fe1-b0c2-e9cfc0be7602"
      },
      "source": [
        "# Challenge 5\n",
        "# Find the number of countries with no coastline and a city with longitude < 10\n",
        "# \n",
        "%%sql\n",
        "SELECT COUNT(country) FROM WorldCountries\n",
        "WHERE coastline = 'no' AND country IN (SELECT Country from WorldCities\n",
        "                                     where longitude < 10)"
      ],
      "execution_count": 60,
      "outputs": [
        {
          "output_type": "stream",
          "text": [
            " * sqlite://\n",
            "Done.\n"
          ],
          "name": "stdout"
        },
        {
          "output_type": "execute_result",
          "data": {
            "text/html": [
              "<table>\n",
              "    <tr>\n",
              "        <th>COUNT(country)</th>\n",
              "    </tr>\n",
              "    <tr>\n",
              "        <td>2</td>\n",
              "    </tr>\n",
              "</table>"
            ],
            "text/plain": [
              "[(2,)]"
            ]
          },
          "metadata": {
            "tags": []
          },
          "execution_count": 60
        }
      ]
    },
    {
      "cell_type": "code",
      "metadata": {
        "id": "Z_AeMRdD82F8",
        "colab_type": "code",
        "colab": {
          "base_uri": "https://localhost:8080/",
          "height": 184
        },
        "outputId": "291fb7fa-bdc7-433a-965b-86f82556f3e2"
      },
      "source": [
        "# Challenge 6\n",
        "# Find countries in Countries table with no city in Cities table\n",
        "# \n",
        "\n",
        "\n",
        "%%sql\n",
        "SELECT country\n",
        "FROM WorldCountries\n",
        "WHERE country NOT IN (SELECT country FROM WorldCities )"
      ],
      "execution_count": 63,
      "outputs": [
        {
          "output_type": "stream",
          "text": [
            " * sqlite://\n",
            "Done.\n"
          ],
          "name": "stdout"
        },
        {
          "output_type": "execute_result",
          "data": {
            "text/html": [
              "<table>\n",
              "    <tr>\n",
              "        <th>country</th>\n",
              "    </tr>\n",
              "    <tr>\n",
              "        <td>Cyprus</td>\n",
              "    </tr>\n",
              "    <tr>\n",
              "        <td>Iceland</td>\n",
              "    </tr>\n",
              "    <tr>\n",
              "        <td>Kosovo</td>\n",
              "    </tr>\n",
              "    <tr>\n",
              "        <td>Liechtenstein</td>\n",
              "    </tr>\n",
              "    <tr>\n",
              "        <td>Luxembourg</td>\n",
              "    </tr>\n",
              "</table>"
            ],
            "text/plain": [
              "[('Cyprus',), ('Iceland',), ('Kosovo',), ('Liechtenstein',), ('Luxembourg',)]"
            ]
          },
          "metadata": {
            "tags": []
          },
          "execution_count": 63
        }
      ]
    },
    {
      "cell_type": "code",
      "metadata": {
        "id": "4dW5nRzi9atc",
        "colab_type": "code",
        "colab": {
          "base_uri": "https://localhost:8080/",
          "height": 205
        },
        "outputId": "511154d6-5cee-402c-fafa-d196ce65e497"
      },
      "source": [
        "# Challenge 7\n",
        "# Find all cities in a country whose population is < 2, returning the city and country.\n",
        "# \n",
        "\n",
        "%%sql\n",
        "SELECT city, country FROM WorldCities\n",
        "WHERE country IN (SELECT country FROM WorldCountries\n",
        "                 WHERE population < 2)"
      ],
      "execution_count": 68,
      "outputs": [
        {
          "output_type": "stream",
          "text": [
            " * sqlite://\n",
            "Done.\n"
          ],
          "name": "stdout"
        },
        {
          "output_type": "execute_result",
          "data": {
            "text/html": [
              "<table>\n",
              "    <tr>\n",
              "        <th>city</th>\n",
              "        <th>country</th>\n",
              "    </tr>\n",
              "    <tr>\n",
              "        <td>Andorra</td>\n",
              "        <td>Andorra</td>\n",
              "    </tr>\n",
              "    <tr>\n",
              "        <td>Daugavpils</td>\n",
              "        <td>Latvia</td>\n",
              "    </tr>\n",
              "    <tr>\n",
              "        <td>Podgorica</td>\n",
              "        <td>Montenegro</td>\n",
              "    </tr>\n",
              "    <tr>\n",
              "        <td>Riga</td>\n",
              "        <td>Latvia</td>\n",
              "    </tr>\n",
              "    <tr>\n",
              "        <td>Tallinn</td>\n",
              "        <td>Estonia</td>\n",
              "    </tr>\n",
              "    <tr>\n",
              "        <td>Tartu</td>\n",
              "        <td>Estonia</td>\n",
              "    </tr>\n",
              "</table>"
            ],
            "text/plain": [
              "[('Andorra', 'Andorra'),\n",
              " ('Daugavpils', 'Latvia'),\n",
              " ('Podgorica', 'Montenegro'),\n",
              " ('Riga', 'Latvia'),\n",
              " ('Tallinn', 'Estonia'),\n",
              " ('Tartu', 'Estonia')]"
            ]
          },
          "metadata": {
            "tags": []
          },
          "execution_count": 68
        }
      ]
    },
    {
      "cell_type": "code",
      "metadata": {
        "id": "rZCO_07d9n9G",
        "colab_type": "code",
        "colab": {
          "base_uri": "https://localhost:8080/",
          "height": 269
        },
        "outputId": "24f9ee1f-624f-41eb-fefe-48d182226135"
      },
      "source": [
        "# Challenge 8\n",
        "# Find all countries with no city having a temperature > 6\n",
        "# \n",
        "%%sql\n",
        "SELECT country FROM WorldCountries\n",
        "WHERE country NOT IN(SELECT country FROM WorldCities\n",
        "                    WHERE temperature > 6)"
      ],
      "execution_count": 71,
      "outputs": [
        {
          "output_type": "stream",
          "text": [
            " * sqlite://\n",
            "Done.\n"
          ],
          "name": "stdout"
        },
        {
          "output_type": "execute_result",
          "data": {
            "text/html": [
              "<table>\n",
              "    <tr>\n",
              "        <th>country</th>\n",
              "    </tr>\n",
              "    <tr>\n",
              "        <td>Cyprus</td>\n",
              "    </tr>\n",
              "    <tr>\n",
              "        <td>Estonia</td>\n",
              "    </tr>\n",
              "    <tr>\n",
              "        <td>Finland</td>\n",
              "    </tr>\n",
              "    <tr>\n",
              "        <td>Iceland</td>\n",
              "    </tr>\n",
              "    <tr>\n",
              "        <td>Kosovo</td>\n",
              "    </tr>\n",
              "    <tr>\n",
              "        <td>Latvia</td>\n",
              "    </tr>\n",
              "    <tr>\n",
              "        <td>Liechtenstein</td>\n",
              "    </tr>\n",
              "    <tr>\n",
              "        <td>Luxembourg</td>\n",
              "    </tr>\n",
              "    <tr>\n",
              "        <td>Norway</td>\n",
              "    </tr>\n",
              "</table>"
            ],
            "text/plain": [
              "[('Cyprus',),\n",
              " ('Estonia',),\n",
              " ('Finland',),\n",
              " ('Iceland',),\n",
              " ('Kosovo',),\n",
              " ('Latvia',),\n",
              " ('Liechtenstein',),\n",
              " ('Luxembourg',),\n",
              " ('Norway',)]"
            ]
          },
          "metadata": {
            "tags": []
          },
          "execution_count": 71
        }
      ]
    }
  ]
}